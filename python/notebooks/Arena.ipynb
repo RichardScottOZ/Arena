{
 "cells": [
  {
   "cell_type": "code",
   "execution_count": 50,
   "id": "ec36b929",
   "metadata": {},
   "outputs": [],
   "source": [
    "import pandas as pd\n",
    "import numpy as np\n",
    "import random\n",
    "import re\n",
    "from tqdm import tqdm\n",
    "import enum\n",
    "import copy"
   ]
  },
  {
   "cell_type": "code",
   "execution_count": null,
   "id": "ae184a25",
   "metadata": {},
   "outputs": [],
   "source": [
    "DEFAULT_NUM_YEARS = 50\n",
    "DEFAULT_FIGHTS_PER_YEAR = 12\n",
    "DEFAULT_NUM_FIGHTERS = 100\n",
    "DEFAULT_PARTY_SIZE = 1\n",
    "DEFAULT_PCT_MAGIC_PER_LEVEL = 15\n",
    "Armor.Type DEFAULT_ARMOR = Armor.Type.Plate\n",
    "\n",
    "fighterlist = []\n",
    "numYears = DEFAULT_NUM_YEARS\n",
    "fightsPerYear = DEFAULT_FIGHTS_PER_YEAR\n",
    "numFighters = DEFAULT_NUM_FIGHTERS\n",
    "startLevel = 0\n",
    "fighterPartySize = DEFAULT_PARTY_SIZE\n",
    "\n",
    "fightManVsMonster = False\n",
    "useMonsterTreasureType = False\n",
    "boolean useRevisedXPAwards;\n",
    "\n",
    "#** Report summary statistics? */\n",
    "reportFighterStats = True\n",
    "\n",
    "#** Report full details on each fighter? */\n",
    "reportFighterData = False\n",
    "\n",
    "#** Report kills achieved by each monster type? */\n",
    "reportMonsterKills = False\n",
    "\n",
    "#** Report total kills by monster level? */\n",
    "reportTotalMonsterKills = False\n",
    "\n",
    "#** Report status at each year-end? */\n",
    "reportYearEnd = False\n",
    "\n",
    "#** Report XP award ratios? */\n",
    "reportXPAwards = False\n",
    "\n",
    "#** Report each individual XP award? */\n",
    "reportAllXPAwards = False\n",
    "\n",
    "#** Report every encounter? */\n",
    "reportEveryEncounter = False\n",
    "\n",
    "#** Create win percent matrix? */\n",
    "makeWinPercentMatrix = False\n",
    "\n",
    "#** Age of oldest fighter who ever lived. */\n",
    "supMaxAge = 120\n",
    "\n",
    "#** Total awarded monster XP. */\n",
    "totalMonsterXP = 0\n",
    "\n",
    "#** Total awarded treasure XP. */\n",
    "totalTreasureXP = 0\n",
    "\n"
   ]
  },
  {
   "cell_type": "code",
   "execution_count": 106,
   "id": "e5677c31",
   "metadata": {},
   "outputs": [
    {
     "ename": "SyntaxError",
     "evalue": "invalid syntax (Temp/ipykernel_42252/510910033.py, line 32)",
     "output_type": "error",
     "traceback": [
      "\u001b[1;36m  File \u001b[1;32m\"C:\\Users\\rscott\\AppData\\Local\\Temp/ipykernel_42252/510910033.py\"\u001b[1;36m, line \u001b[1;32m32\u001b[0m\n\u001b[1;33m    if c == \"L\" or c = \"Lawful\":\u001b[0m\n\u001b[1;37m                     ^\u001b[0m\n\u001b[1;31mSyntaxError\u001b[0m\u001b[1;31m:\u001b[0m invalid syntax\n"
     ]
    }
   ],
   "source": [
    "class Equipment:\n",
    "    def __init__(self, name, magicBonus, weight):\n",
    "        MAX_MAGIC_BONUS = 5\n",
    "        self.ONE_THIRD = 1.0/3.0\n",
    "        self.name = name\n",
    "        self.magicBonus = magicBonus\n",
    "        self.weight = weight\n",
    "        \n",
    "    #Set the magic bonus.\n",
    "    def setMagicBonus(bonus):\n",
    "        magicBonus = np.min(bonus, MAX_MAGIC_BONUS);\n",
    "    \n",
    "    #Increment the magic bonus.\n",
    "    def incMagicBonus():\n",
    "        setMagicBonus(self.magicBonus+1)\n",
    "\n",
    "##Enumerations        \n",
    "class armType(enum.Enum):\n",
    "    Plate = 1\n",
    "    Chain = 2\n",
    "    Leather = 3\n",
    "    Shield = 4\n",
    "\n",
    "class Alignment(enum.Enum):\n",
    "    Lawful = 1\n",
    "    Neutral = 2\n",
    "    Chaotic = 3\n",
    "    \n",
    "    #Convert a letter to alignment.\n",
    "    @classmethod\n",
    "    def getFromChar(cls, c):\n",
    "        if c == \"L\" or c = \"Lawful\":\n",
    "            return cls.Lawful\n",
    "        if c == \"N\" or c = \"Neutral\":\n",
    "            return cls.Neutral\n",
    "        if c == \"C\" or c = \"Chaotic\":\n",
    "            return cls.Chaotic\n",
    "\n",
    "    #Randomize a normally-distributed alignment. \n",
    "    @classmethod\n",
    "    def randomNormal(cls):\n",
    "        d6 = random.randint(1,6)\n",
    "        if d6 >=2 and d6 <=5:\n",
    "            return cls.Neutral\n",
    "        if d6 == 1:\n",
    "            return cls.Lawful\n",
    "        if d6 == 6:\n",
    "            return cls.Chaotic\n",
    "\n",
    "    #Randomize a uniformly-distributed alignment. \n",
    "    @classmethod\n",
    "    def randomUniform(cls):\n",
    "        d6 = random.randint(1,6)\n",
    "        if d6 >=1 and d6 <=2:\n",
    "            return cls.Lawful\n",
    "        if d6 >=3 and d6 <=4:\n",
    "            return cls.Neutral\n",
    "        if d6 >=5 and d6 <=6:\n",
    "            return cls.Chaotic\n",
    "\n",
    "    #Randomize a Lawful-distributed alignment. \n",
    "    @classmethod\n",
    "    def randomUniform(cls):\n",
    "        d6 = random.randint(1,6)\n",
    "        if d6 >=1 and d6 <=4:\n",
    "            return cls.Lawful\n",
    "        if d6 >=5\n",
    "            return cls.Neutral\n",
    "\n",
    "    #Randomize a Chatoric-distributed alignment. \n",
    "    @classmethod\n",
    "    def randomUniform(cls):\n",
    "        d6 = random.randint(1,6)\n",
    "        if d6 >=1 and d6 <=2:\n",
    "            return cls.Neutral\n",
    "        if d6 >=5\n",
    "            return cls.Chaotic\n",
    "        \n",
    "##Classes    \n",
    "class Armor(Equipment):\n",
    "    \n",
    "    def __init__(self, armorType, baseArmor, weight, magicBonus):\n",
    "        self.baseArmor = baseArmor\n",
    "        self.armorType = armorType\n",
    "        super().__init__(str(armType(armorType)), weight, magicBonus)\n",
    "        #Enumeration\n",
    "        \n",
    "    def getArmorType(self):\n",
    "        return self.armorType\n",
    "    \n",
    "    def getBaseArmor(self):\n",
    "        return self.baseArmor\n",
    "    \n",
    "    def isMetal(self):\n",
    "        if self.armorType == armType.Plate.value or self.armorType == armType.Chain.value:\n",
    "            return True\n",
    "        else:\n",
    "            return False\n",
    "            \n",
    "    def copy(self):\n",
    "        return copy.deepcopy(self)\n",
    "    \n",
    "    def makeType(armType):\n",
    "        if armType == armType.Plate:\n",
    "            return(Armor(armType, 6, 4, 0))\n",
    "        if armType == armType.Chain:\n",
    "            return(Armor(armType, 4, 2, 0))\n",
    "        if armType == armType.Chain:\n",
    "            return(Armor(armType, 2, 1, 0))\n",
    "        if armType == armType.Chain:\n",
    "            return(Armor(armType, 1, 1, 0))\n"
   ]
  },
  {
   "cell_type": "code",
   "execution_count": 58,
   "id": "87ad5414",
   "metadata": {},
   "outputs": [
    {
     "name": "stdout",
     "output_type": "stream",
     "text": [
      "armType.Plate\n"
     ]
    }
   ],
   "source": [
    "class armType(enum.Enum):\n",
    "        Plate = 1\n",
    "        Chain = 2\n",
    "        Leather = 3\n",
    "        Shield = 4\n",
    "        \n",
    "print(str(armType(1)) )       "
   ]
  },
  {
   "cell_type": "code",
   "execution_count": 59,
   "id": "79bd97fa",
   "metadata": {},
   "outputs": [
    {
     "name": "stdout",
     "output_type": "stream",
     "text": [
      "armType.Plate\n",
      "1\n",
      "1\n",
      "True\n"
     ]
    }
   ],
   "source": [
    "banana = Armor(1,1,100,2)\n",
    "print(banana.name)\n",
    "print(banana.getArmorType())\n",
    "print(banana.getBaseArmor())\n",
    "junk = banana.isMetal()\n",
    "print(junk)"
   ]
  },
  {
   "cell_type": "code",
   "execution_count": 64,
   "id": "56c4ba22",
   "metadata": {},
   "outputs": [
    {
     "ename": "AttributeError",
     "evalue": "'int' object has no attribute 'Plate'",
     "output_type": "error",
     "traceback": [
      "\u001b[1;31m---------------------------------------------------------------------------\u001b[0m",
      "\u001b[1;31mAttributeError\u001b[0m                            Traceback (most recent call last)",
      "\u001b[1;32m~\\AppData\\Local\\Temp/ipykernel_42252/1884100993.py\u001b[0m in \u001b[0;36m<module>\u001b[1;34m\u001b[0m\n\u001b[1;32m----> 1\u001b[1;33m \u001b[0morange\u001b[0m \u001b[1;33m=\u001b[0m \u001b[0mArmor\u001b[0m\u001b[1;33m.\u001b[0m\u001b[0mmakeType\u001b[0m\u001b[1;33m(\u001b[0m\u001b[0marmType\u001b[0m\u001b[1;33m.\u001b[0m\u001b[0mPlate\u001b[0m\u001b[1;33m.\u001b[0m\u001b[0mvalue\u001b[0m\u001b[1;33m)\u001b[0m\u001b[1;33m\u001b[0m\u001b[1;33m\u001b[0m\u001b[0m\n\u001b[0m",
      "\u001b[1;32m~\\AppData\\Local\\Temp/ipykernel_42252/3115637669.py\u001b[0m in \u001b[0;36mmakeType\u001b[1;34m(armType)\u001b[0m\n\u001b[0;32m     45\u001b[0m \u001b[1;33m\u001b[0m\u001b[0m\n\u001b[0;32m     46\u001b[0m     \u001b[1;32mdef\u001b[0m \u001b[0mmakeType\u001b[0m\u001b[1;33m(\u001b[0m\u001b[0marmType\u001b[0m\u001b[1;33m)\u001b[0m\u001b[1;33m:\u001b[0m\u001b[1;33m\u001b[0m\u001b[1;33m\u001b[0m\u001b[0m\n\u001b[1;32m---> 47\u001b[1;33m         \u001b[1;32mif\u001b[0m \u001b[0marmType\u001b[0m \u001b[1;33m==\u001b[0m \u001b[0marmType\u001b[0m\u001b[1;33m.\u001b[0m\u001b[0mPlate\u001b[0m\u001b[1;33m.\u001b[0m\u001b[0mvalue\u001b[0m\u001b[1;33m:\u001b[0m\u001b[1;33m\u001b[0m\u001b[1;33m\u001b[0m\u001b[0m\n\u001b[0m\u001b[0;32m     48\u001b[0m             \u001b[1;32mreturn\u001b[0m\u001b[1;33m(\u001b[0m\u001b[0mArmor\u001b[0m\u001b[1;33m(\u001b[0m\u001b[0marmType\u001b[0m\u001b[1;33m,\u001b[0m \u001b[1;36m6\u001b[0m\u001b[1;33m,\u001b[0m \u001b[1;36m4\u001b[0m\u001b[1;33m,\u001b[0m \u001b[1;36m0\u001b[0m\u001b[1;33m)\u001b[0m\u001b[1;33m)\u001b[0m\u001b[1;33m\u001b[0m\u001b[1;33m\u001b[0m\u001b[0m\n\u001b[0;32m     49\u001b[0m         \u001b[1;32mif\u001b[0m \u001b[0marmType\u001b[0m \u001b[1;33m==\u001b[0m \u001b[0marmType\u001b[0m\u001b[1;33m.\u001b[0m\u001b[0mChain\u001b[0m\u001b[1;33m.\u001b[0m\u001b[0mvalue\u001b[0m\u001b[1;33m:\u001b[0m\u001b[1;33m\u001b[0m\u001b[1;33m\u001b[0m\u001b[0m\n",
      "\u001b[1;31mAttributeError\u001b[0m: 'int' object has no attribute 'Plate'"
     ]
    }
   ],
   "source": [
    "orange = Armor.makeType(armType.Plate.value)"
   ]
  },
  {
   "cell_type": "code",
   "execution_count": 61,
   "id": "3f058414",
   "metadata": {},
   "outputs": [],
   "source": [
    "orange\n",
    "\n",
    "#** Typical alignment for generated men. */\n",
    "#Alignment typicalAlignment;"
   ]
  },
  {
   "cell_type": "code",
   "execution_count": 63,
   "id": "29c142bf",
   "metadata": {},
   "outputs": [
    {
     "data": {
      "text/plain": [
       "<enum 'armType'>"
      ]
     },
     "execution_count": 63,
     "metadata": {},
     "output_type": "execute_result"
    }
   ],
   "source": [
    "poo = armType\n",
    "poo"
   ]
  },
  {
   "cell_type": "code",
   "execution_count": 79,
   "id": "b786f700",
   "metadata": {},
   "outputs": [
    {
     "data": {
      "text/plain": [
       "6"
      ]
     },
     "execution_count": 79,
     "metadata": {},
     "output_type": "execute_result"
    }
   ],
   "source": [
    "poo = Armor.makeType(armType(1))\n",
    "poo\n",
    "poo.baseArmor"
   ]
  },
  {
   "cell_type": "code",
   "execution_count": 105,
   "id": "49fb80ed",
   "metadata": {},
   "outputs": [
    {
     "data": {
      "text/plain": [
       "<Alignment2.Lawful: 1>"
      ]
     },
     "execution_count": 105,
     "metadata": {},
     "output_type": "execute_result"
    }
   ],
   "source": [
    "poo = makeType(armType(1))\n",
    "poo\n",
    "poo.baseArmor\n",
    "Alignment2.getFromChar(\"L\")"
   ]
  },
  {
   "cell_type": "code",
   "execution_count": 103,
   "id": "92eeed5c",
   "metadata": {},
   "outputs": [
    {
     "data": {
      "text/plain": [
       "<Alignment2.Lawful: 1>"
      ]
     },
     "execution_count": 103,
     "metadata": {},
     "output_type": "execute_result"
    }
   ],
   "source": [
    "class Alignment2(enum.Enum):\n",
    "    Lawful = 1\n",
    "    Neutral = 2\n",
    "    Chaotic = 3\n",
    "    \n",
    "    @classmethod\n",
    "    def getFromChar(cls, c):\n",
    "    #def getFromChar(c):        \n",
    "        if c == \"L\":\n",
    "            return cls.Lawful\n",
    "        if c == \"N\":\n",
    "            return cls.Neutral\n",
    "        if c == \"C\":\n",
    "            return cls.Chaotic\n",
    "\n",
    "Alignment2.getFromChar(\"L\")"
   ]
  },
  {
   "cell_type": "code",
   "execution_count": 96,
   "id": "00b6e12c",
   "metadata": {},
   "outputs": [
    {
     "name": "stdout",
     "output_type": "stream",
     "text": [
      "None\n"
     ]
    }
   ],
   "source": [
    "print(d)"
   ]
  },
  {
   "cell_type": "code",
   "execution_count": null,
   "id": "5ef431b5",
   "metadata": {},
   "outputs": [],
   "source": []
  }
 ],
 "metadata": {
  "kernelspec": {
   "display_name": "Python [conda env:pangeo4] *",
   "language": "python",
   "name": "conda-env-pangeo4-py"
  },
  "language_info": {
   "codemirror_mode": {
    "name": "ipython",
    "version": 3
   },
   "file_extension": ".py",
   "mimetype": "text/x-python",
   "name": "python",
   "nbconvert_exporter": "python",
   "pygments_lexer": "ipython3",
   "version": "3.8.12"
  }
 },
 "nbformat": 4,
 "nbformat_minor": 5
}
